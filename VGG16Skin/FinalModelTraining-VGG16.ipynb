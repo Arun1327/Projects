{
 "cells": [
  {
   "cell_type": "code",
   "execution_count": 1,
   "id": "20ee00ef",
   "metadata": {},
   "outputs": [
    {
     "name": "stdout",
     "output_type": "stream",
     "text": [
      "WARNING:tensorflow:From c:\\Users\\Philemon Boaz\\AppData\\Local\\Programs\\Python\\Python311\\Lib\\site-packages\\keras\\src\\losses.py:2976: The name tf.losses.sparse_softmax_cross_entropy is deprecated. Please use tf.compat.v1.losses.sparse_softmax_cross_entropy instead.\n",
      "\n"
     ]
    }
   ],
   "source": [
    "from tensorflow.keras.layers import Dense, Flatten, Input\n",
    "\n",
    "from tensorflow.keras.models import Model\n",
    "\n",
    "from tensorflow.keras.preprocessing import image\n",
    "\n",
    "from tensorflow.keras.preprocessing.image import ImageDataGenerator, load_img\n",
    "\n",
    "from tensorflow.keras.applications.vgg16 import VGG16, preprocess_input\n",
    "\n",
    "from glob import glob\n",
    "\n",
    "import numpy as np\n",
    "\n",
    "import matplotlib.pyplot as plt"
   ]
  },
  {
   "cell_type": "code",
   "execution_count": 2,
   "id": "74801d8f",
   "metadata": {},
   "outputs": [
    {
     "name": "stdout",
     "output_type": "stream",
     "text": [
      "WARNING:tensorflow:From c:\\Users\\Philemon Boaz\\AppData\\Local\\Programs\\Python\\Python311\\Lib\\site-packages\\keras\\src\\backend.py:1398: The name tf.executing_eagerly_outside_functions is deprecated. Please use tf.compat.v1.executing_eagerly_outside_functions instead.\n",
      "\n",
      "WARNING:tensorflow:From c:\\Users\\Philemon Boaz\\AppData\\Local\\Programs\\Python\\Python311\\Lib\\site-packages\\keras\\src\\layers\\pooling\\max_pooling2d.py:161: The name tf.nn.max_pool is deprecated. Please use tf.nn.max_pool2d instead.\n",
      "\n",
      "Downloading data from https://storage.googleapis.com/tensorflow/keras-applications/vgg16/vgg16_weights_tf_dim_ordering_tf_kernels_notop.h5\n",
      "58889256/58889256 [==============================] - 52s 1us/step\n"
     ]
    }
   ],
   "source": [
    "# Load the pre-trained VGG16 model without the top (fully connected) layers\n",
    "vgg = VGG16(weights='imagenet', include_top=False, input_shape=(224, 224, 3))\n"
   ]
  },
  {
   "cell_type": "code",
   "execution_count": 3,
   "id": "c050cdd9",
   "metadata": {},
   "outputs": [],
   "source": [
    "for layer in vgg.layers:\n",
    "    layer.trainable=False\n",
    "    \n",
    "    "
   ]
  },
  {
   "cell_type": "code",
   "execution_count": 4,
   "id": "cbca2203",
   "metadata": {},
   "outputs": [],
   "source": [
    "x=Flatten()(vgg.output)"
   ]
  },
  {
   "cell_type": "code",
   "execution_count": 5,
   "id": "23154c45",
   "metadata": {},
   "outputs": [],
   "source": [
    "#adding output layer\n",
    "prediction=Dense(8,activation='softmax')(x)"
   ]
  },
  {
   "cell_type": "code",
   "execution_count": 6,
   "id": "afa0c9cd",
   "metadata": {},
   "outputs": [],
   "source": [
    "#creating model\n",
    "model = Model(inputs=vgg.input, outputs=prediction)"
   ]
  },
  {
   "cell_type": "code",
   "execution_count": 7,
   "id": "71100fc7",
   "metadata": {},
   "outputs": [
    {
     "name": "stdout",
     "output_type": "stream",
     "text": [
      "Model: \"model\"\n",
      "_________________________________________________________________\n",
      " Layer (type)                Output Shape              Param #   \n",
      "=================================================================\n",
      " input_1 (InputLayer)        [(None, 224, 224, 3)]     0         \n",
      "                                                                 \n",
      " block1_conv1 (Conv2D)       (None, 224, 224, 64)      1792      \n",
      "                                                                 \n",
      " block1_conv2 (Conv2D)       (None, 224, 224, 64)      36928     \n",
      "                                                                 \n",
      " block1_pool (MaxPooling2D)  (None, 112, 112, 64)      0         \n",
      "                                                                 \n",
      " block2_conv1 (Conv2D)       (None, 112, 112, 128)     73856     \n",
      "                                                                 \n",
      " block2_conv2 (Conv2D)       (None, 112, 112, 128)     147584    \n",
      "                                                                 \n",
      " block2_pool (MaxPooling2D)  (None, 56, 56, 128)       0         \n",
      "                                                                 \n",
      " block3_conv1 (Conv2D)       (None, 56, 56, 256)       295168    \n",
      "                                                                 \n",
      " block3_conv2 (Conv2D)       (None, 56, 56, 256)       590080    \n",
      "                                                                 \n",
      " block3_conv3 (Conv2D)       (None, 56, 56, 256)       590080    \n",
      "                                                                 \n",
      " block3_pool (MaxPooling2D)  (None, 28, 28, 256)       0         \n",
      "                                                                 \n",
      " block4_conv1 (Conv2D)       (None, 28, 28, 512)       1180160   \n",
      "                                                                 \n",
      " block4_conv2 (Conv2D)       (None, 28, 28, 512)       2359808   \n",
      "                                                                 \n",
      " block4_conv3 (Conv2D)       (None, 28, 28, 512)       2359808   \n",
      "                                                                 \n",
      " block4_pool (MaxPooling2D)  (None, 14, 14, 512)       0         \n",
      "                                                                 \n",
      " block5_conv1 (Conv2D)       (None, 14, 14, 512)       2359808   \n",
      "                                                                 \n",
      " block5_conv2 (Conv2D)       (None, 14, 14, 512)       2359808   \n",
      "                                                                 \n",
      " block5_conv3 (Conv2D)       (None, 14, 14, 512)       2359808   \n",
      "                                                                 \n",
      " block5_pool (MaxPooling2D)  (None, 7, 7, 512)         0         \n",
      "                                                                 \n",
      " flatten (Flatten)           (None, 25088)             0         \n",
      "                                                                 \n",
      " dense (Dense)               (None, 8)                 200712    \n",
      "                                                                 \n",
      "=================================================================\n",
      "Total params: 14915400 (56.90 MB)\n",
      "Trainable params: 200712 (784.03 KB)\n",
      "Non-trainable params: 14714688 (56.13 MB)\n",
      "_________________________________________________________________\n"
     ]
    }
   ],
   "source": [
    "model.summary()"
   ]
  },
  {
   "cell_type": "code",
   "execution_count": 8,
   "id": "1af48026",
   "metadata": {},
   "outputs": [
    {
     "name": "stdout",
     "output_type": "stream",
     "text": [
      "WARNING:tensorflow:From c:\\Users\\Philemon Boaz\\AppData\\Local\\Programs\\Python\\Python311\\Lib\\site-packages\\keras\\src\\optimizers\\__init__.py:309: The name tf.train.Optimizer is deprecated. Please use tf.compat.v1.train.Optimizer instead.\n",
      "\n"
     ]
    }
   ],
   "source": [
    "#tell the model cost and optimization method to use\n",
    "\n",
    "model.compile(\n",
    "    loss='categorical_crossentropy',\n",
    "    optimizer='adam',\n",
    "    metrics=['accuracy'], \n",
    "    run_eagerly = True\n",
    "    )"
   ]
  },
  {
   "cell_type": "code",
   "execution_count": 9,
   "id": "1d623366",
   "metadata": {},
   "outputs": [],
   "source": [
    "#import image data generator library\n",
    "from tensorflow.keras.preprocessing.image import ImageDataGenerator"
   ]
  },
  {
   "cell_type": "code",
   "execution_count": 11,
   "id": "f3ebc990",
   "metadata": {},
   "outputs": [],
   "source": [
    "train_datagen=ImageDataGenerator(rescale=1./255,\n",
    "                                shear_range=0.2,\n",
    "                                zoom_range=0.2,\n",
    "                                horizontal_flip=True)\n",
    "\n",
    "test_datagen=ImageDataGenerator(rescale=1./255)"
   ]
  },
  {
   "cell_type": "code",
   "execution_count": 13,
   "id": "4eaf54d1",
   "metadata": {},
   "outputs": [
    {
     "name": "stdout",
     "output_type": "stream",
     "text": [
      "Found 920 images belonging to 8 classes.\n"
     ]
    }
   ],
   "source": [
    "training_set = train_datagen.flow_from_directory('E:\\\\codings\\\\college-projects\\\\ResnetSkin\\\\skin-disease-datasaet\\\\train_set',\n",
    "                                           target_size=(224,224),\n",
    "                                           class_mode='categorical',\n",
    "                                           batch_size=20)"
   ]
  },
  {
   "cell_type": "code",
   "execution_count": 15,
   "id": "b6712b23",
   "metadata": {},
   "outputs": [
    {
     "name": "stdout",
     "output_type": "stream",
     "text": [
      "Found 233 images belonging to 8 classes.\n"
     ]
    }
   ],
   "source": [
    "test_set = train_datagen.flow_from_directory('E:\\\\codings\\\\college-projects\\\\ResnetSkin\\\\skin-disease-datasaet\\\\test_set',\n",
    "                                           target_size=(224,224),\n",
    "                                           class_mode='categorical',\n",
    "                                           batch_size=20)"
   ]
  },
  {
   "cell_type": "code",
   "execution_count": 16,
   "id": "e0c9329a",
   "metadata": {},
   "outputs": [
    {
     "data": {
      "text/plain": [
       "{'BA- cellulitis': 0,\n",
       " 'BA-impetigo': 1,\n",
       " 'FU-athlete-foot': 2,\n",
       " 'FU-nail-fungus': 3,\n",
       " 'FU-ringworm': 4,\n",
       " 'PA-cutaneous-larva-migrans': 5,\n",
       " 'VI-chickenpox': 6,\n",
       " 'VI-shingles': 7}"
      ]
     },
     "execution_count": 16,
     "metadata": {},
     "output_type": "execute_result"
    }
   ],
   "source": [
    "training_set.class_indices"
   ]
  },
  {
   "cell_type": "code",
   "execution_count": 17,
   "id": "4d60d2eb",
   "metadata": {
    "scrolled": true
   },
   "outputs": [
    {
     "name": "stderr",
     "output_type": "stream",
     "text": [
      "C:\\Users\\Philemon Boaz\\AppData\\Local\\Temp\\ipykernel_16692\\1968481864.py:2: UserWarning: `Model.fit_generator` is deprecated and will be removed in a future version. Please use `Model.fit`, which supports generators.\n",
      "  r = model.fit_generator(training_set,\n"
     ]
    },
    {
     "name": "stdout",
     "output_type": "stream",
     "text": [
      "Epoch 1/30\n",
      "WARNING:tensorflow:From c:\\Users\\Philemon Boaz\\AppData\\Local\\Programs\\Python\\Python311\\Lib\\site-packages\\keras\\src\\utils\\tf_utils.py:492: The name tf.ragged.RaggedTensorValue is deprecated. Please use tf.compat.v1.ragged.RaggedTensorValue instead.\n",
      "\n",
      "46/46 [==============================] - 436s 10s/step - loss: 1.4952 - accuracy: 0.5293 - val_loss: 0.7663 - val_accuracy: 0.7425\n",
      "Epoch 2/30\n",
      "46/46 [==============================] - 254s 6s/step - loss: 0.5288 - accuracy: 0.8272 - val_loss: 0.6340 - val_accuracy: 0.7940\n",
      "Epoch 3/30\n",
      "46/46 [==============================] - 250s 5s/step - loss: 0.3625 - accuracy: 0.8793 - val_loss: 0.5601 - val_accuracy: 0.8240\n",
      "Epoch 4/30\n",
      "46/46 [==============================] - 250s 5s/step - loss: 0.2591 - accuracy: 0.9326 - val_loss: 0.4713 - val_accuracy: 0.8541\n",
      "Epoch 5/30\n",
      "46/46 [==============================] - 249s 5s/step - loss: 0.2241 - accuracy: 0.9435 - val_loss: 0.4738 - val_accuracy: 0.8670\n",
      "Epoch 6/30\n",
      "46/46 [==============================] - 477s 10s/step - loss: 0.1375 - accuracy: 0.9630 - val_loss: 0.4582 - val_accuracy: 0.9056\n",
      "Epoch 7/30\n",
      "46/46 [==============================] - 412s 9s/step - loss: 0.1406 - accuracy: 0.9696 - val_loss: 0.5233 - val_accuracy: 0.8841\n",
      "Epoch 8/30\n",
      "46/46 [==============================] - 407s 9s/step - loss: 0.1237 - accuracy: 0.9761 - val_loss: 0.3790 - val_accuracy: 0.8970\n",
      "Epoch 9/30\n",
      "46/46 [==============================] - 421s 9s/step - loss: 0.0925 - accuracy: 0.9848 - val_loss: 0.3662 - val_accuracy: 0.9185\n",
      "Epoch 10/30\n",
      "46/46 [==============================] - 243s 5s/step - loss: 0.0781 - accuracy: 0.9880 - val_loss: 0.4484 - val_accuracy: 0.9056\n",
      "Epoch 11/30\n",
      "46/46 [==============================] - 242s 5s/step - loss: 0.0761 - accuracy: 0.9880 - val_loss: 0.4574 - val_accuracy: 0.9013\n",
      "Epoch 12/30\n",
      "46/46 [==============================] - 243s 5s/step - loss: 0.0588 - accuracy: 0.9924 - val_loss: 0.4262 - val_accuracy: 0.9013\n",
      "Epoch 13/30\n",
      "46/46 [==============================] - 241s 5s/step - loss: 0.0556 - accuracy: 0.9913 - val_loss: 0.4880 - val_accuracy: 0.8755\n",
      "Epoch 14/30\n",
      "46/46 [==============================] - 269s 6s/step - loss: 0.0507 - accuracy: 0.9924 - val_loss: 0.4297 - val_accuracy: 0.9142\n",
      "Epoch 15/30\n",
      "46/46 [==============================] - 416s 9s/step - loss: 0.0446 - accuracy: 0.9946 - val_loss: 0.4456 - val_accuracy: 0.9056\n",
      "Epoch 16/30\n",
      "46/46 [==============================] - 763s 17s/step - loss: 0.0362 - accuracy: 0.9957 - val_loss: 0.4421 - val_accuracy: 0.8970\n",
      "Epoch 17/30\n",
      "46/46 [==============================] - 1048s 23s/step - loss: 0.0384 - accuracy: 0.9957 - val_loss: 0.3943 - val_accuracy: 0.9142\n",
      "Epoch 18/30\n",
      "46/46 [==============================] - 232s 5s/step - loss: 0.0346 - accuracy: 0.9957 - val_loss: 0.4360 - val_accuracy: 0.9185\n",
      "Epoch 19/30\n",
      "46/46 [==============================] - 244s 5s/step - loss: 0.0244 - accuracy: 0.9989 - val_loss: 0.4718 - val_accuracy: 0.9142\n",
      "Epoch 20/30\n",
      "46/46 [==============================] - 246s 5s/step - loss: 0.0268 - accuracy: 0.9989 - val_loss: 0.4167 - val_accuracy: 0.9142\n",
      "Epoch 21/30\n",
      "46/46 [==============================] - 246s 5s/step - loss: 0.0269 - accuracy: 0.9989 - val_loss: 0.4574 - val_accuracy: 0.9142\n",
      "Epoch 22/30\n",
      "46/46 [==============================] - 247s 5s/step - loss: 0.0228 - accuracy: 1.0000 - val_loss: 0.4653 - val_accuracy: 0.9185\n",
      "Epoch 23/30\n",
      "46/46 [==============================] - 247s 5s/step - loss: 0.0193 - accuracy: 0.9967 - val_loss: 0.4569 - val_accuracy: 0.9142\n",
      "Epoch 24/30\n",
      "46/46 [==============================] - 246s 5s/step - loss: 0.0222 - accuracy: 0.9978 - val_loss: 0.4705 - val_accuracy: 0.9013\n",
      "Epoch 25/30\n",
      "46/46 [==============================] - 248s 5s/step - loss: 0.0216 - accuracy: 0.9989 - val_loss: 0.4254 - val_accuracy: 0.9227\n",
      "Epoch 26/30\n",
      "46/46 [==============================] - 244s 5s/step - loss: 0.0165 - accuracy: 1.0000 - val_loss: 0.4505 - val_accuracy: 0.9227\n",
      "Epoch 27/30\n",
      "46/46 [==============================] - 246s 5s/step - loss: 0.0159 - accuracy: 0.9989 - val_loss: 0.4237 - val_accuracy: 0.9142\n",
      "Epoch 28/30\n",
      "46/46 [==============================] - 246s 5s/step - loss: 0.0166 - accuracy: 1.0000 - val_loss: 0.4226 - val_accuracy: 0.9185\n",
      "Epoch 29/30\n",
      "46/46 [==============================] - 246s 5s/step - loss: 0.0134 - accuracy: 1.0000 - val_loss: 0.4790 - val_accuracy: 0.9185\n",
      "Epoch 30/30\n",
      "46/46 [==============================] - 246s 5s/step - loss: 0.0170 - accuracy: 1.0000 - val_loss: 0.4355 - val_accuracy: 0.9356\n"
     ]
    }
   ],
   "source": [
    "#fit the model\n",
    "r = model.fit_generator(training_set,\n",
    "    validation_data=test_set,\n",
    "    epochs=30,\n",
    "    steps_per_epoch=len(training_set),\n",
    "    validation_steps=len(test_set)\n",
    "    )"
   ]
  },
  {
   "cell_type": "code",
   "execution_count": 18,
   "id": "f3f1ff0a",
   "metadata": {},
   "outputs": [
    {
     "name": "stderr",
     "output_type": "stream",
     "text": [
      "c:\\Users\\Philemon Boaz\\AppData\\Local\\Programs\\Python\\Python311\\Lib\\site-packages\\keras\\src\\engine\\training.py:3103: UserWarning: You are saving your model as an HDF5 file via `model.save()`. This file format is considered legacy. We recommend using instead the native Keras format, e.g. `model.save('my_model.keras')`.\n",
      "  saving_api.save_model(\n"
     ]
    }
   ],
   "source": [
    "model.save('vgg16final.h5')"
   ]
  },
  {
   "cell_type": "code",
   "execution_count": null,
   "id": "0b1e1cb6",
   "metadata": {},
   "outputs": [],
   "source": []
  }
 ],
 "metadata": {
  "kernelspec": {
   "display_name": "Python 3 (ipykernel)",
   "language": "python",
   "name": "python3"
  },
  "language_info": {
   "codemirror_mode": {
    "name": "ipython",
    "version": 3
   },
   "file_extension": ".py",
   "mimetype": "text/x-python",
   "name": "python",
   "nbconvert_exporter": "python",
   "pygments_lexer": "ipython3",
   "version": "3.11.5"
  }
 },
 "nbformat": 4,
 "nbformat_minor": 5
}
