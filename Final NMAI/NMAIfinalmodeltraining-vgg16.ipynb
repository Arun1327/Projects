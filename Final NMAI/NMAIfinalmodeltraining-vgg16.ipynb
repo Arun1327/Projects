{
 "cells": [
  {
   "cell_type": "code",
   "execution_count": 1,
   "id": "20ee00ef",
   "metadata": {},
   "outputs": [],
   "source": [
    "from tensorflow.keras.layers import Dense, Flatten, Input\n",
    "\n",
    "from tensorflow.keras.models import Model\n",
    "\n",
    "from tensorflow.keras.preprocessing import image\n",
    "\n",
    "from tensorflow.keras.preprocessing.image import ImageDataGenerator, load_img\n",
    "\n",
    "from tensorflow.keras.applications.vgg16 import VGG16, preprocess_input\n",
    "\n",
    "from glob import glob\n",
    "\n",
    "import numpy as np\n",
    "\n",
    "import matplotlib.pyplot as plt"
   ]
  },
  {
   "cell_type": "code",
   "execution_count": 2,
   "id": "74801d8f",
   "metadata": {},
   "outputs": [],
   "source": [
    "# Load the pre-trained VGG16 model without the top (fully connected) layers\n",
    "vgg = VGG16(weights='imagenet', include_top=False, input_shape=(224, 224, 3))\n"
   ]
  },
  {
   "cell_type": "code",
   "execution_count": 3,
   "id": "c050cdd9",
   "metadata": {},
   "outputs": [],
   "source": [
    "for layer in vgg.layers:\n",
    "    layer.trainable=False\n",
    "    \n",
    "    "
   ]
  },
  {
   "cell_type": "code",
   "execution_count": 4,
   "id": "cbca2203",
   "metadata": {},
   "outputs": [],
   "source": [
    "x=Flatten()(vgg.output)"
   ]
  },
  {
   "cell_type": "code",
   "execution_count": 5,
   "id": "23154c45",
   "metadata": {},
   "outputs": [],
   "source": [
    "#adding output layer\n",
    "prediction=Dense(8,activation='softmax')(x)"
   ]
  },
  {
   "cell_type": "code",
   "execution_count": 6,
   "id": "afa0c9cd",
   "metadata": {},
   "outputs": [],
   "source": [
    "#creating model\n",
    "model = Model(inputs=vgg.input, outputs=prediction)"
   ]
  },
  {
   "cell_type": "code",
   "execution_count": 7,
   "id": "71100fc7",
   "metadata": {},
   "outputs": [
    {
     "name": "stdout",
     "output_type": "stream",
     "text": [
      "Model: \"model\"\n",
      "_________________________________________________________________\n",
      " Layer (type)                Output Shape              Param #   \n",
      "=================================================================\n",
      " input_1 (InputLayer)        [(None, 224, 224, 3)]     0         \n",
      "                                                                 \n",
      " block1_conv1 (Conv2D)       (None, 224, 224, 64)      1792      \n",
      "                                                                 \n",
      " block1_conv2 (Conv2D)       (None, 224, 224, 64)      36928     \n",
      "                                                                 \n",
      " block1_pool (MaxPooling2D)  (None, 112, 112, 64)      0         \n",
      "                                                                 \n",
      " block2_conv1 (Conv2D)       (None, 112, 112, 128)     73856     \n",
      "                                                                 \n",
      " block2_conv2 (Conv2D)       (None, 112, 112, 128)     147584    \n",
      "                                                                 \n",
      " block2_pool (MaxPooling2D)  (None, 56, 56, 128)       0         \n",
      "                                                                 \n",
      " block3_conv1 (Conv2D)       (None, 56, 56, 256)       295168    \n",
      "                                                                 \n",
      " block3_conv2 (Conv2D)       (None, 56, 56, 256)       590080    \n",
      "                                                                 \n",
      " block3_conv3 (Conv2D)       (None, 56, 56, 256)       590080    \n",
      "                                                                 \n",
      " block3_pool (MaxPooling2D)  (None, 28, 28, 256)       0         \n",
      "                                                                 \n",
      " block4_conv1 (Conv2D)       (None, 28, 28, 512)       1180160   \n",
      "                                                                 \n",
      " block4_conv2 (Conv2D)       (None, 28, 28, 512)       2359808   \n",
      "                                                                 \n",
      " block4_conv3 (Conv2D)       (None, 28, 28, 512)       2359808   \n",
      "                                                                 \n",
      " block4_pool (MaxPooling2D)  (None, 14, 14, 512)       0         \n",
      "                                                                 \n",
      " block5_conv1 (Conv2D)       (None, 14, 14, 512)       2359808   \n",
      "                                                                 \n",
      " block5_conv2 (Conv2D)       (None, 14, 14, 512)       2359808   \n",
      "                                                                 \n",
      " block5_conv3 (Conv2D)       (None, 14, 14, 512)       2359808   \n",
      "                                                                 \n",
      " block5_pool (MaxPooling2D)  (None, 7, 7, 512)         0         \n",
      "                                                                 \n",
      " flatten (Flatten)           (None, 25088)             0         \n",
      "                                                                 \n",
      " dense (Dense)               (None, 8)                 200712    \n",
      "                                                                 \n",
      "=================================================================\n",
      "Total params: 14,915,400\n",
      "Trainable params: 200,712\n",
      "Non-trainable params: 14,714,688\n",
      "_________________________________________________________________\n"
     ]
    }
   ],
   "source": [
    "model.summary()"
   ]
  },
  {
   "cell_type": "code",
   "execution_count": 8,
   "id": "1af48026",
   "metadata": {},
   "outputs": [],
   "source": [
    "#tell the model cost and optimization method to use\n",
    "\n",
    "model.compile(\n",
    "    loss='categorical_crossentropy',\n",
    "    optimizer='adam',\n",
    "    metrics=['accuracy'], \n",
    "    run_eagerly = True\n",
    "    )"
   ]
  },
  {
   "cell_type": "code",
   "execution_count": 9,
   "id": "1d623366",
   "metadata": {},
   "outputs": [],
   "source": [
    "#import image data generator library\n",
    "from tensorflow.keras.preprocessing.image import ImageDataGenerator"
   ]
  },
  {
   "cell_type": "code",
   "execution_count": 10,
   "id": "f3ebc990",
   "metadata": {},
   "outputs": [],
   "source": [
    "train_datagen=ImageDataGenerator(rescale=1./255,\n",
    "                                shear_range=0.2,\n",
    "                                zoom_range=0.2,\n",
    "                                horizontal_flip=True)\n",
    "\n",
    "test_datagen=ImageDataGenerator(rescale=1./255)"
   ]
  },
  {
   "cell_type": "code",
   "execution_count": 11,
   "id": "4eaf54d1",
   "metadata": {},
   "outputs": [
    {
     "name": "stdout",
     "output_type": "stream",
     "text": [
      "Found 669 images belonging to 8 classes.\n"
     ]
    }
   ],
   "source": [
    "training_set = train_datagen.flow_from_directory('C:\\\\Users\\\\Narayanan\\\\Tea Leaves\\\\tea sickness dataset',\n",
    "                                           target_size=(224,224),\n",
    "                                           class_mode='categorical',\n",
    "                                           batch_size=20)"
   ]
  },
  {
   "cell_type": "code",
   "execution_count": 12,
   "id": "b6712b23",
   "metadata": {},
   "outputs": [
    {
     "name": "stdout",
     "output_type": "stream",
     "text": [
      "Found 129 images belonging to 8 classes.\n"
     ]
    }
   ],
   "source": [
    "test_set = train_datagen.flow_from_directory('C:\\\\Users\\\\Narayanan\\\\Tea Leaves\\\\test',\n",
    "                                           target_size=(224,224),\n",
    "                                           class_mode='categorical',\n",
    "                                           batch_size=20)"
   ]
  },
  {
   "cell_type": "code",
   "execution_count": 13,
   "id": "e0c9329a",
   "metadata": {},
   "outputs": [
    {
     "data": {
      "text/plain": [
       "{'Anthracnose': 0,\n",
       " 'algal leaf': 1,\n",
       " 'bird eye spot': 2,\n",
       " 'brown blight': 3,\n",
       " 'gray light': 4,\n",
       " 'healthy': 5,\n",
       " 'red leaf spot': 6,\n",
       " 'white spot': 7}"
      ]
     },
     "execution_count": 13,
     "metadata": {},
     "output_type": "execute_result"
    }
   ],
   "source": [
    "training_set.class_indices"
   ]
  },
  {
   "cell_type": "code",
   "execution_count": 14,
   "id": "4d60d2eb",
   "metadata": {
    "scrolled": true
   },
   "outputs": [
    {
     "name": "stderr",
     "output_type": "stream",
     "text": [
      "D:\\Program Files (x86)\\ipykernel_6984\\1968481864.py:2: UserWarning: `Model.fit_generator` is deprecated and will be removed in a future version. Please use `Model.fit`, which supports generators.\n",
      "  r = model.fit_generator(training_set,\n"
     ]
    },
    {
     "name": "stdout",
     "output_type": "stream",
     "text": [
      "Epoch 1/30\n",
      "34/34 [==============================] - 553s 16s/step - loss: 1.7082 - accuracy: 0.4155 - val_loss: 1.6316 - val_accuracy: 0.4031\n",
      "Epoch 2/30\n",
      "34/34 [==============================] - 552s 16s/step - loss: 0.9591 - accuracy: 0.6413 - val_loss: 1.4548 - val_accuracy: 0.5814\n",
      "Epoch 3/30\n",
      "34/34 [==============================] - 543s 16s/step - loss: 0.6742 - accuracy: 0.7444 - val_loss: 1.3995 - val_accuracy: 0.7442\n",
      "Epoch 4/30\n",
      "34/34 [==============================] - 553s 16s/step - loss: 0.4584 - accuracy: 0.8430 - val_loss: 1.3558 - val_accuracy: 0.7054\n",
      "Epoch 5/30\n",
      "34/34 [==============================] - 540s 16s/step - loss: 0.4768 - accuracy: 0.8221 - val_loss: 1.3836 - val_accuracy: 0.6977\n",
      "Epoch 6/30\n",
      "34/34 [==============================] - 540s 16s/step - loss: 0.3446 - accuracy: 0.8834 - val_loss: 1.4261 - val_accuracy: 0.7054\n",
      "Epoch 7/30\n",
      "34/34 [==============================] - 542s 16s/step - loss: 0.3135 - accuracy: 0.9013 - val_loss: 1.4296 - val_accuracy: 0.7364\n",
      "Epoch 8/30\n",
      "34/34 [==============================] - 542s 16s/step - loss: 0.2582 - accuracy: 0.9208 - val_loss: 1.6262 - val_accuracy: 0.7132\n",
      "Epoch 9/30\n",
      "34/34 [==============================] - 538s 16s/step - loss: 0.2316 - accuracy: 0.9297 - val_loss: 1.3531 - val_accuracy: 0.7674\n",
      "Epoch 10/30\n",
      "34/34 [==============================] - 551s 16s/step - loss: 0.1842 - accuracy: 0.9492 - val_loss: 1.5538 - val_accuracy: 0.7597\n",
      "Epoch 11/30\n",
      "34/34 [==============================] - 548s 16s/step - loss: 0.2134 - accuracy: 0.9372 - val_loss: 1.5424 - val_accuracy: 0.7597\n",
      "Epoch 12/30\n",
      "34/34 [==============================] - 2915s 88s/step - loss: 0.1651 - accuracy: 0.9656 - val_loss: 1.5376 - val_accuracy: 0.7597\n",
      "Epoch 13/30\n",
      "34/34 [==============================] - 614s 18s/step - loss: 0.1461 - accuracy: 0.9611 - val_loss: 1.6544 - val_accuracy: 0.7597\n",
      "Epoch 14/30\n",
      "34/34 [==============================] - 617s 18s/step - loss: 0.1353 - accuracy: 0.9611 - val_loss: 1.6271 - val_accuracy: 0.7442\n",
      "Epoch 15/30\n",
      "34/34 [==============================] - 616s 18s/step - loss: 0.0966 - accuracy: 0.9821 - val_loss: 1.5274 - val_accuracy: 0.7752\n",
      "Epoch 16/30\n",
      "34/34 [==============================] - 608s 18s/step - loss: 0.1861 - accuracy: 0.9387 - val_loss: 1.7870 - val_accuracy: 0.7054\n",
      "Epoch 17/30\n",
      "34/34 [==============================] - 587s 17s/step - loss: 0.2534 - accuracy: 0.9103 - val_loss: 1.8627 - val_accuracy: 0.6899\n",
      "Epoch 18/30\n",
      "34/34 [==============================] - 581s 17s/step - loss: 0.1467 - accuracy: 0.9537 - val_loss: 1.7225 - val_accuracy: 0.7519\n",
      "Epoch 19/30\n",
      "34/34 [==============================] - 573s 17s/step - loss: 0.1488 - accuracy: 0.9567 - val_loss: 1.8009 - val_accuracy: 0.7829\n",
      "Epoch 20/30\n",
      "34/34 [==============================] - 552s 16s/step - loss: 0.0955 - accuracy: 0.9671 - val_loss: 1.6225 - val_accuracy: 0.7674\n",
      "Epoch 21/30\n",
      "34/34 [==============================] - 543s 16s/step - loss: 0.0743 - accuracy: 0.9821 - val_loss: 1.7274 - val_accuracy: 0.7674\n",
      "Epoch 22/30\n",
      "34/34 [==============================] - 541s 16s/step - loss: 0.1229 - accuracy: 0.9581 - val_loss: 1.6333 - val_accuracy: 0.7597\n",
      "Epoch 23/30\n",
      "34/34 [==============================] - 542s 16s/step - loss: 0.0647 - accuracy: 0.9865 - val_loss: 1.6364 - val_accuracy: 0.7829\n",
      "Epoch 24/30\n",
      "34/34 [==============================] - 545s 16s/step - loss: 0.1050 - accuracy: 0.9716 - val_loss: 1.7469 - val_accuracy: 0.7674\n",
      "Epoch 25/30\n",
      "34/34 [==============================] - 544s 16s/step - loss: 0.0586 - accuracy: 0.9851 - val_loss: 1.7699 - val_accuracy: 0.7674\n",
      "Epoch 26/30\n",
      "34/34 [==============================] - 560s 16s/step - loss: 0.0629 - accuracy: 0.9895 - val_loss: 1.8285 - val_accuracy: 0.7674\n",
      "Epoch 27/30\n",
      "34/34 [==============================] - 557s 16s/step - loss: 0.0367 - accuracy: 0.9985 - val_loss: 1.7356 - val_accuracy: 0.7829\n",
      "Epoch 28/30\n",
      "34/34 [==============================] - 564s 17s/step - loss: 0.0340 - accuracy: 0.9970 - val_loss: 1.8179 - val_accuracy: 0.7674\n",
      "Epoch 29/30\n",
      "34/34 [==============================] - 564s 17s/step - loss: 0.0453 - accuracy: 0.9895 - val_loss: 1.9087 - val_accuracy: 0.7674\n",
      "Epoch 30/30\n",
      "34/34 [==============================] - 550s 16s/step - loss: 0.0397 - accuracy: 0.9925 - val_loss: 1.8604 - val_accuracy: 0.7829\n"
     ]
    }
   ],
   "source": [
    "#fit the model\n",
    "r = model.fit_generator(training_set,\n",
    "    validation_data=test_set,\n",
    "    epochs=30,\n",
    "    steps_per_epoch=len(training_set),\n",
    "    validation_steps=len(test_set)\n",
    "    )"
   ]
  },
  {
   "cell_type": "code",
   "execution_count": 16,
   "id": "f3f1ff0a",
   "metadata": {},
   "outputs": [],
   "source": [
    "model.save('vgg16final.h5')"
   ]
  },
  {
   "cell_type": "code",
   "execution_count": null,
   "id": "0b1e1cb6",
   "metadata": {},
   "outputs": [],
   "source": []
  }
 ],
 "metadata": {
  "kernelspec": {
   "display_name": "Python 3 (ipykernel)",
   "language": "python",
   "name": "python3"
  },
  "language_info": {
   "codemirror_mode": {
    "name": "ipython",
    "version": 3
   },
   "file_extension": ".py",
   "mimetype": "text/x-python",
   "name": "python",
   "nbconvert_exporter": "python",
   "pygments_lexer": "ipython3",
   "version": "3.10.9"
  }
 },
 "nbformat": 4,
 "nbformat_minor": 5
}
