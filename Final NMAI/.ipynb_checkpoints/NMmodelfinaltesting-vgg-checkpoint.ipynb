{
 "cells": [
  {
   "cell_type": "code",
   "execution_count": 1,
   "id": "81c563de",
   "metadata": {},
   "outputs": [],
   "source": [
    "#import load_model class for loading h5 file\n",
    "#from tensorflow import keras\n",
    "from tensorflow.keras.models import load_model\n",
    "#import image class to process the images\n",
    "from tensorflow.keras.preprocessing import image\n",
    "from tensorflow.keras.applications.inception_v3 import preprocess_input \n",
    "import numpy as np"
   ]
  },
  {
   "cell_type": "code",
   "execution_count": 2,
   "id": "5f22cb6e",
   "metadata": {},
   "outputs": [],
   "source": [
    "model = load_model('vgg16final.h5')\n"
   ]
  },
  {
   "cell_type": "code",
   "execution_count": 6,
   "id": "a1a08f04",
   "metadata": {},
   "outputs": [
    {
     "name": "stdout",
     "output_type": "stream",
     "text": [
      "1/1 [==============================] - 0s 410ms/step\n"
     ]
    },
    {
     "data": {
      "text/plain": [
       "'bird eye spot'"
      ]
     },
     "execution_count": 6,
     "metadata": {},
     "output_type": "execute_result"
    }
   ],
   "source": [
    "img=image.load_img('C:\\\\Users\\\\Admin\\\\nmproj\\\\Final NMAI\\\\dleaves\\\\bes1.jpg', target_size=(224,224))\n",
    "#convert image to array format\n",
    "x=image.img_to_array(img)\n",
    "import numpy as np\n",
    "x=np.expand_dims(x,axis=0)\n",
    "img_data=preprocess_input(x)\n",
    "output=np.argmax(model.predict(img_data), axis=1)\n",
    "index =[' Anthracnose',\n",
    "\n",
    "         'algal leaf',\n",
    "\n",
    "         'bird eye spot',\n",
    "\n",
    "         'brown blight',\n",
    "\n",
    "         'gray light',\n",
    "\n",
    "         'healthy',\n",
    "\n",
    "        'red leaf spot',\n",
    "\n",
    "        'white spot']\n",
    "\n",
    "result = str(index[output[0]])\n",
    "result"
   ]
  },
  {
   "cell_type": "code",
   "execution_count": null,
   "id": "a6a7c3f9",
   "metadata": {},
   "outputs": [],
   "source": []
  },
  {
   "cell_type": "code",
   "execution_count": null,
   "id": "8e5c13ac",
   "metadata": {},
   "outputs": [],
   "source": []
  }
 ],
 "metadata": {
  "kernelspec": {
   "display_name": "Python 3 (ipykernel)",
   "language": "python",
   "name": "python3"
  },
  "language_info": {
   "codemirror_mode": {
    "name": "ipython",
    "version": 3
   },
   "file_extension": ".py",
   "mimetype": "text/x-python",
   "name": "python",
   "nbconvert_exporter": "python",
   "pygments_lexer": "ipython3",
   "version": "3.9.13"
  }
 },
 "nbformat": 4,
 "nbformat_minor": 5
}
